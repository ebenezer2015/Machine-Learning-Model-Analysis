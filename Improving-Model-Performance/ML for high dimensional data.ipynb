{
 "cells": [
  {
   "cell_type": "code",
   "execution_count": 1,
   "id": "c1839d5d",
   "metadata": {},
   "outputs": [],
   "source": [
    "from sklearn.datasets import fetch_openml\n",
    "from sklearn.model_selection import train_test_split, GridSearchCV\n",
    "from sklearn.ensemble import RandomForestClassifier, GradientBoostingClassifier\n",
    "from sklearn.svm import SVC\n",
    "from sklearn.neighbors import KNeighborsClassifier\n",
    "from sklearn.metrics import accuracy_score, confusion_matrix\n",
    "import numpy as np\n",
    "import matplotlib.pyplot as plt\n",
    "import time\n"
   ]
  },
  {
   "cell_type": "code",
   "execution_count": 2,
   "id": "d2a7fdf1",
   "metadata": {},
   "outputs": [],
   "source": [
    "# Load MNIST dataset\n",
    "mnist = fetch_openml('mnist_784', version=1, parser='auto')\n",
    "X, y = mnist.data, mnist.target.astype(int)\n",
    "\n",
    "# Split data into train and test sets\n",
    "X_train, X_test, y_train, y_test = train_test_split(X, y, test_size=0.2, random_state=42)"
   ]
  },
  {
   "cell_type": "code",
   "execution_count": 4,
   "id": "feedd2b3",
   "metadata": {},
   "outputs": [
    {
     "name": "stdout",
     "output_type": "stream",
     "text": [
      "Runtime is: 1 mins 47 secs \n"
     ]
    }
   ],
   "source": [
    "# 1. Random Forest\n",
    "\n",
    "start_time = time.time()\n",
    "\n",
    "rf_model = RandomForestClassifier(n_estimators=100, random_state=42)\n",
    "rf_model.fit(X_train, y_train)\n",
    "rf_pred = rf_model.predict(X_test)\n",
    "rf_accuracy = accuracy_score(y_test, rf_pred)\n",
    "\n",
    "runtime = round(time.time() - start_time,2)\n",
    "minutes = int(runtime//60)\n",
    "seconds = int(runtime%60)\n",
    "\n",
    "print(f\"Runtime is: {minutes} mins {seconds} secs \")"
   ]
  },
  {
   "cell_type": "code",
   "execution_count": 7,
   "id": "39f93909",
   "metadata": {},
   "outputs": [
    {
     "name": "stdout",
     "output_type": "stream",
     "text": [
      "Random Forest Accuracy: 0.97\n",
      "[[1325    0    4    0    1    1    3    1    6    2]\n",
      " [   0 1573    6    8    2    0    0    6    3    2]\n",
      " [   4    5 1334    4    5    1    9    8    8    2]\n",
      " [   1    0   23 1366    0    9    0   14   12    8]\n",
      " [   4    1    3    0 1257    0    2    3    3   22]\n",
      " [   1    3    3   17    4 1226    8    1    8    2]\n",
      " [   4    1    0    0    6   10 1372    0    3    0]\n",
      " [   3    5   15    0    7    1    0 1455    2   15]\n",
      " [   1    6    9   15    6   11    5    7 1290    7]\n",
      " [   4    6    5   16   20    5    1   10    9 1344]]\n"
     ]
    }
   ],
   "source": [
    "print(\"Random Forest Accuracy:\", round(rf_accuracy, 2))\n",
    "rf_cm = confusion_matrix(y_test, rf_pred)\n",
    "print(rf_cm)"
   ]
  },
  {
   "cell_type": "code",
   "execution_count": 8,
   "id": "e0135f51",
   "metadata": {},
   "outputs": [
    {
     "name": "stdout",
     "output_type": "stream",
     "text": [
      "Runtime is: 73 mins 8 secs \n"
     ]
    }
   ],
   "source": [
    "# 2. Gradient Boosting Machines (GBM)\n",
    "\n",
    "start_time = time.time()\n",
    "\n",
    "gbm_model = GradientBoostingClassifier(n_estimators=100, random_state=42)\n",
    "gbm_model.fit(X_train, y_train)\n",
    "gbm_pred = gbm_model.predict(X_test)\n",
    "gbm_accuracy = accuracy_score(y_test, gbm_pred)\n",
    "\n",
    "runtime = round(time.time() - start_time,2)\n",
    "minutes = int(runtime//60)\n",
    "seconds = int(runtime%60)\n",
    "\n",
    "print(f\"Runtime is: {minutes} mins {seconds} secs \")"
   ]
  },
  {
   "cell_type": "code",
   "execution_count": 10,
   "id": "76fcfecc",
   "metadata": {},
   "outputs": [
    {
     "name": "stdout",
     "output_type": "stream",
     "text": [
      "Gradient Boosting Machines Accuracy: 0.95\n"
     ]
    },
    {
     "data": {
      "text/plain": [
       "array([[1314,    1,    3,    2,    2,    2,    6,    1,   12,    0],\n",
       "       [   0, 1572,    5,    5,    4,    3,    0,    5,    4,    2],\n",
       "       [   4,    7, 1304,    8,   11,    1,   10,   10,   19,    6],\n",
       "       [   2,    8,   21, 1317,    1,   29,    1,   16,   17,   21],\n",
       "       [   2,    1,    7,    3, 1227,    1,    5,    4,    3,   42],\n",
       "       [   6,    7,    5,   29,    8, 1183,   10,    1,   18,    6],\n",
       "       [   4,    3,    5,    0,   14,   17, 1344,    0,    9,    0],\n",
       "       [   6,    8,   16,    4,    8,    3,    0, 1418,    3,   37],\n",
       "       [   4,    9,   10,   22,    8,   18,    7,    7, 1253,   19],\n",
       "       [   7,    9,    4,   19,   25,    7,    1,   34,   10, 1304]],\n",
       "      dtype=int64)"
      ]
     },
     "execution_count": 10,
     "metadata": {},
     "output_type": "execute_result"
    }
   ],
   "source": [
    "print(\"Gradient Boosting Machines Accuracy:\", round(gbm_accuracy, 2))\n",
    "gbm_cm = confusion_matrix(y_test, gbm_pred)\n",
    "gbm_cm"
   ]
  },
  {
   "cell_type": "code",
   "execution_count": null,
   "id": "869836b1",
   "metadata": {},
   "outputs": [],
   "source": [
    "# 3. Support Vector Machines (SVM)\n",
    "start_time = time.time()\n",
    "\n",
    "svm_model = SVC(kernel='linear', random_state=42)\n",
    "svm_model.fit(X_train, y_train)\n",
    "svm_pred = svm_model.predict(X_test)\n",
    "svm_accuracy = accuracy_score(y_test, svm_pred)\n",
    "\n",
    "runtime = round(time.time() - start_time, 2)\n",
    "minutes = int(runtime//60)\n",
    "seconds = int(runtime%60)\n",
    "\n",
    "print(f\"Runtime is: {minutes} mins {seconds} secs \")"
   ]
  },
  {
   "cell_type": "code",
   "execution_count": null,
   "id": "aded2beb",
   "metadata": {},
   "outputs": [],
   "source": [
    "print(\"Support Vector Machines Accuracy:\", rond(svm_accuracy, 2))\n",
    "svm_cm = confusion_matrix(y_test, svm_pred)\n",
    "svm_cm"
   ]
  },
  {
   "cell_type": "code",
   "execution_count": null,
   "id": "5174deaf",
   "metadata": {},
   "outputs": [],
   "source": []
  },
  {
   "cell_type": "code",
   "execution_count": null,
   "id": "34602c0a",
   "metadata": {},
   "outputs": [],
   "source": [
    "# 4. k-Nearest Neighbors (k-NN)\n",
    "# Define k-NN model\n",
    "knn_model = KNeighborsClassifier()\n",
    "\n",
    "# Define hyperparameters to tune\n",
    "param_grid = {'n_neighbors': [1, 2, 3, 4, 5, 6,]}  # Adjust the range of K values as needed\n",
    "\n",
    "# Perform grid search cross-validation to find the best K value\n",
    "grid_search = GridSearchCV(knn_model, param_grid, cv=3, n_jobs=-1)\n",
    "grid_search.fit(X_train, y_train)"
   ]
  },
  {
   "cell_type": "code",
   "execution_count": null,
   "id": "5a43ebb9",
   "metadata": {},
   "outputs": [],
   "source": [
    "\n",
    "# Plot grid search results\n",
    "k_values = [params['n_neighbors'] for params in grid_search.cv_results_['params']]\n",
    "cv_accuracies = grid_search.cv_results_['mean_test_score']\n",
    "\n",
    "plt.figure(figsize=(10, 6))\n",
    "plt.plot(k_values, cv_accuracies, marker='o')\n",
    "plt.title('Grid Search Results')\n",
    "plt.xlabel('Number of Neighbors (K)')\n",
    "plt.ylabel('Cross-Validation Accuracy')\n",
    "plt.xticks(k_values)\n",
    "plt.grid(True)\n",
    "plt.show()"
   ]
  },
  {
   "cell_type": "code",
   "execution_count": null,
   "id": "d39b6210",
   "metadata": {},
   "outputs": [],
   "source": [
    "# Get the best K value and its corresponding accuracy\n",
    "best_k = grid_search.best_params_['n_neighbors']\n",
    "best_accuracy = grid_search.best_score_\n",
    "print(\"Best K value:\", best_k)\n",
    "print(\"Best Cross-Validation Accuracy:\", best_accuracy)"
   ]
  },
  {
   "cell_type": "code",
   "execution_count": null,
   "id": "383746ee",
   "metadata": {},
   "outputs": [],
   "source": [
    "# Get the best K value and its corresponding accuracy\n",
    "best_k = grid_search.best_params_['n_neighbors']\n",
    "best_accuracy = grid_search.best_score_\n",
    "print(\"Best K value:\", best_k)\n",
    "print(\"Best Cross-Validation Accuracy:\", best_accuracy)\n",
    "\n",
    "# Evaluate the model on the test set using the best K value\n",
    "best_knn_model = KNeighborsClassifier(n_neighbors=best_k)\n",
    "best_knn_model.fit(X_train, y_train)\n",
    "y_pred = best_knn_model.predict(X_test)\n",
    "test_accuracy = accuracy_score(y_test, y_pred)\n",
    "print(\"Test Set Accuracy with Best K:\", test_accuracy)\n"
   ]
  }
 ],
 "metadata": {
  "kernelspec": {
   "display_name": "Python 3 (ipykernel)",
   "language": "python",
   "name": "python3"
  },
  "language_info": {
   "codemirror_mode": {
    "name": "ipython",
    "version": 3
   },
   "file_extension": ".py",
   "mimetype": "text/x-python",
   "name": "python",
   "nbconvert_exporter": "python",
   "pygments_lexer": "ipython3",
   "version": "3.9.16"
  }
 },
 "nbformat": 4,
 "nbformat_minor": 5
}
