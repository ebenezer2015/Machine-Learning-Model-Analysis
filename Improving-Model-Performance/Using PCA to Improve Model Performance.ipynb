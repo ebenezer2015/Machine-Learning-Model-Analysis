{
 "cells": [
  {
   "cell_type": "code",
   "execution_count": 1,
   "id": "3f28f177",
   "metadata": {},
   "outputs": [],
   "source": [
    "from sklearn.datasets import fetch_openml\n",
    "from sklearn.model_selection import train_test_split\n",
    "from sklearn.ensemble import RandomForestClassifier, GradientBoostingClassifier\n",
    "from sklearn.svm import SVC\n",
    "from sklearn.metrics import accuracy_score\n",
    "from sklearn.decomposition import PCA"
   ]
  },
  {
   "cell_type": "code",
   "execution_count": null,
   "id": "f1d21544",
   "metadata": {},
   "outputs": [],
   "source": [
    "# Load MNIST dataset\n",
    "mnist = fetch_openml('mnist_784', version=1)\n",
    "X, y = mnist.data, mnist.target.astype(int)\n",
    "\n",
    "# Split data into train and test sets\n",
    "X_train, X_test, y_train, y_test = train_test_split(X, y, test_size=0.2, random_state=42)\n",
    "\n",
    "# Perform PCA for dimensionality reduction\n",
    "pca = PCA(n_components=0.95, random_state=42)  # Retain 95% of variance\n",
    "X_train_pca = pca.fit_transform(X_train)\n",
    "X_test_pca = pca.transform(X_test)\n",
    "\n",
    "# Train and evaluate Random Forest\n",
    "rf_model = RandomForestClassifier(n_estimators=100, random_state=42)\n",
    "rf_model.fit(X_train_pca, y_train)\n",
    "rf_pred = rf_model.predict(X_test_pca)\n",
    "rf_accuracy = accuracy_score(y_test, rf_pred)\n",
    "print(\"Random Forest Accuracy after PCA:\", rf_accuracy)\n",
    "\n",
    "# Train and evaluate Gradient Boosting Machines (GBM)\n",
    "gbm_model = GradientBoostingClassifier(n_estimators=100, random_state=42)\n",
    "gbm_model.fit(X_train_pca, y_train)\n",
    "gbm_pred = gbm_model.predict(X_test_pca)\n",
    "gbm_accuracy = accuracy_score(y_test, gbm_pred)\n",
    "print(\"Gradient Boosting Machines Accuracy after PCA:\", gbm_accuracy)\n",
    "\n",
    "# Train and evaluate Support Vector Machines (SVM)\n",
    "svm_model = SVC(kernel='linear', random_state=42)\n",
    "svm_model.fit(X_train_pca, y_train)\n",
    "svm_pred = svm_model.predict(X_test_pca)\n",
    "svm_accuracy = accuracy_score(y_test, svm_pred)\n",
    "print(\"Support Vector Machines Accuracy after PCA:\", svm_accuracy)\n"
   ]
  }
 ],
 "metadata": {
  "kernelspec": {
   "display_name": "Python 3 (ipykernel)",
   "language": "python",
   "name": "python3"
  },
  "language_info": {
   "codemirror_mode": {
    "name": "ipython",
    "version": 3
   },
   "file_extension": ".py",
   "mimetype": "text/x-python",
   "name": "python",
   "nbconvert_exporter": "python",
   "pygments_lexer": "ipython3",
   "version": "3.9.16"
  }
 },
 "nbformat": 4,
 "nbformat_minor": 5
}
