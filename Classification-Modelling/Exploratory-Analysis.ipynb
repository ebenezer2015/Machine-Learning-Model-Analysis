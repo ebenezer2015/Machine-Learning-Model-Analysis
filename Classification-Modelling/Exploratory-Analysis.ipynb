{
 "cells": [
  {
   "cell_type": "code",
   "execution_count": 1,
   "id": "23392389-f008-489e-8606-ce9eee85bb0e",
   "metadata": {},
   "outputs": [],
   "source": [
    "import pandas as pd\n",
    "import numpy as np\n",
    "import matplotlib.pyplot as plt\n",
    "import seaborn as sns\n",
    "%matplotlib inline\n",
    "\n",
    "import warnings\n",
    "warnings.filterwarnings('ignore')"
   ]
  },
  {
   "cell_type": "code",
   "execution_count": 3,
   "id": "790fdb17-77c7-495d-8253-74ca8d1ec96d",
   "metadata": {},
   "outputs": [],
   "source": [
    "filtered_df = pd.read_csv(\"filtered_df.csv\")"
   ]
  },
  {
   "cell_type": "code",
   "execution_count": 9,
   "id": "19693617-feeb-4c44-9424-6b4e6731d5c7",
   "metadata": {},
   "outputs": [
    {
     "data": {
      "image/png": "[encoded data removed]",
      "text/plain": [
       "<Figure size 640x480 with 1 Axes>"
      ]
     },
     "metadata": {},
     "output_type": "display_data"
    }
   ],
   "source": [
    "# There is a total of 332 defaults\n",
    "count_classes = filtered_df['Loan_Status'].value_counts()\n",
    "percentage = (count_classes / count_classes.sum()) * 100\n",
    "\n",
    "# Define color palette\n",
    "colors = ['steelblue', 'firebrick']\n",
    "\n",
    "ax = count_classes.plot(kind='bar', rot=0, color=colors)\n",
    "ax.set_title(\"Loan Default Status histogram\")\n",
    "ax.set_xlabel(\"Loan Status\")\n",
    "ax.set_ylabel(\"Frequency\")\n",
    "\n",
    "# Add percentage labels to each bar\n",
    "for i, v in enumerate(count_classes):\n",
    "    ax.text(i, v, f\"{v} ({percentage[i]:.1f}%)\", ha='center', va='bottom')\n",
    "\n",
    "plt.show()"
   ]
  },
  {
   "cell_type": "code",
   "execution_count": 11,
   "id": "d49cd69a-924d-4b99-9bb0-2ac6e6d33418",
   "metadata": {},
   "outputs": [
    {
     "data": {
      "text/html": [
       "<div>\n",
       "<style scoped>\n",
       "    .dataframe tbody tr th:only-of-type {\n",
       "        vertical-align: middle;\n",
       "    }\n",
       "\n",
       "    .dataframe tbody tr th {\n",
       "        vertical-align: top;\n",
       "    }\n",
       "\n",
       "    .dataframe thead th {\n",
       "        text-align: right;\n",
       "    }\n",
       "</style>\n",
       "<table border=\"1\" class=\"dataframe\">\n",
       "  <thead>\n",
       "    <tr style=\"text-align: right;\">\n",
       "      <th></th>\n",
       "      <th>Gender</th>\n",
       "      <th>Married</th>\n",
       "      <th>total_default</th>\n",
       "      <th>percentage</th>\n",
       "    </tr>\n",
       "  </thead>\n",
       "  <tbody>\n",
       "    <tr>\n",
       "      <th>0</th>\n",
       "      <td>Female</td>\n",
       "      <td>No</td>\n",
       "      <td>24</td>\n",
       "      <td>16.22</td>\n",
       "    </tr>\n",
       "    <tr>\n",
       "      <th>1</th>\n",
       "      <td>Female</td>\n",
       "      <td>Yes</td>\n",
       "      <td>8</td>\n",
       "      <td>5.41</td>\n",
       "    </tr>\n",
       "    <tr>\n",
       "      <th>2</th>\n",
       "      <td>Male</td>\n",
       "      <td>No</td>\n",
       "      <td>40</td>\n",
       "      <td>27.03</td>\n",
       "    </tr>\n",
       "    <tr>\n",
       "      <th>3</th>\n",
       "      <td>Male</td>\n",
       "      <td>Yes</td>\n",
       "      <td>76</td>\n",
       "      <td>51.35</td>\n",
       "    </tr>\n",
       "  </tbody>\n",
       "</table>\n",
       "</div>"
      ],
      "text/plain": [
       "   Gender Married  total_default  percentage\n",
       "0  Female      No             24       16.22\n",
       "1  Female     Yes              8        5.41\n",
       "2    Male      No             40       27.03\n",
       "3    Male     Yes             76       51.35"
      ]
     },
     "execution_count": 11,
     "metadata": {},
     "output_type": "execute_result"
    }
   ],
   "source": [
    "#what percentae \n",
    "# Group by 'sex' and 'married', and count 'default' occurrences\n",
    "result = filtered_df.groupby(['Gender', 'Married']).agg(total_default=('Loan_Status', lambda x: (x == 'N').sum())).reset_index()\n",
    "# Calculate the total defaults for all groups\n",
    "total_defaults = result['total_default'].sum()\n",
    "# Calculate the percentage of defaults for each group\n",
    "result['percentage'] = round(result['total_default'] / total_defaults * 100, 2)\n",
    "result"
   ]
  },
  {
   "cell_type": "code",
   "execution_count": null,
   "id": "dfa8431a-0693-48f8-b403-0475b1d808cc",
   "metadata": {},
   "outputs": [],
   "source": []
  }
 ],
 "metadata": {
  "kernelspec": {
   "display_name": "Python 3 (ipykernel)",
   "language": "python",
   "name": "python3"
  },
  "language_info": {
   "codemirror_mode": {
    "name": "ipython",
    "version": 3
   },
   "file_extension": ".py",
   "mimetype": "text/x-python",
   "name": "python",
   "nbconvert_exporter": "python",
   "pygments_lexer": "ipython3",
   "version": "3.12.4"
  }
 },
 "nbformat": 4,
 "nbformat_minor": 5
}
